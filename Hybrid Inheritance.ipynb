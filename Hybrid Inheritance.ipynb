{
 "cells": [
  {
   "cell_type": "code",
   "execution_count": 1,
   "id": "39d8edb9",
   "metadata": {},
   "outputs": [],
   "source": [
    "class Blawinder:\n",
    "    def all_pro(self):\n",
    "        print(\"I have a Car\")\n",
    "\n",
    "class Ballu(Blawinder):\n",
    "    def pro_ballu(self):\n",
    "        self.house = \"2CR\"\n",
    "        self.car = \"Lambo\"\n",
    "    \n",
    "class Chinki:    \n",
    "    def pro_chinki(self):\n",
    "        self.YOUTUBE = \"Vlogs 10M\"\n",
    "        \n",
    "class Gaju(Ballu,Chinki):\n",
    "    def starkid(self):\n",
    "        self.star = \"4M\""
   ]
  },
  {
   "cell_type": "code",
   "execution_count": 2,
   "id": "a7165d5b",
   "metadata": {},
   "outputs": [
    {
     "name": "stdout",
     "output_type": "stream",
     "text": [
      "I have a Car\n"
     ]
    }
   ],
   "source": [
    "g = Gaju()\n",
    "g.all_pro()"
   ]
  },
  {
   "cell_type": "code",
   "execution_count": 3,
   "id": "b6799ce0",
   "metadata": {},
   "outputs": [
    {
     "data": {
      "text/plain": [
       "'2CR'"
      ]
     },
     "execution_count": 3,
     "metadata": {},
     "output_type": "execute_result"
    }
   ],
   "source": [
    "g.pro_ballu()\n",
    "g.house"
   ]
  },
  {
   "cell_type": "code",
   "execution_count": 4,
   "id": "76e17529",
   "metadata": {},
   "outputs": [
    {
     "data": {
      "text/plain": [
       "'Vlogs 10M'"
      ]
     },
     "execution_count": 4,
     "metadata": {},
     "output_type": "execute_result"
    }
   ],
   "source": [
    "g.pro_chinki()\n",
    "g.YOUTUBE\n",
    "\n"
   ]
  },
  {
   "cell_type": "code",
   "execution_count": 5,
   "id": "c1b042ad",
   "metadata": {},
   "outputs": [],
   "source": [
    "g.starkid()"
   ]
  },
  {
   "cell_type": "code",
   "execution_count": 6,
   "id": "d2fc166d",
   "metadata": {},
   "outputs": [
    {
     "data": {
      "text/plain": [
       "'4M'"
      ]
     },
     "execution_count": 6,
     "metadata": {},
     "output_type": "execute_result"
    }
   ],
   "source": [
    "g.star"
   ]
  },
  {
   "cell_type": "code",
   "execution_count": null,
   "id": "aaece46d",
   "metadata": {},
   "outputs": [],
   "source": []
  }
 ],
 "metadata": {
  "kernelspec": {
   "display_name": "Python 3 (ipykernel)",
   "language": "python",
   "name": "python3"
  },
  "language_info": {
   "codemirror_mode": {
    "name": "ipython",
    "version": 3
   },
   "file_extension": ".py",
   "mimetype": "text/x-python",
   "name": "python",
   "nbconvert_exporter": "python",
   "pygments_lexer": "ipython3",
   "version": "3.10.9"
  }
 },
 "nbformat": 4,
 "nbformat_minor": 5
}
