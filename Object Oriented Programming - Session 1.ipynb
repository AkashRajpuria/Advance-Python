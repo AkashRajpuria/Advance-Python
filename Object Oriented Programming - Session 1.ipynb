{
 "cells": [
  {
   "cell_type": "code",
   "execution_count": 4,
   "id": "8b4f69c2",
   "metadata": {},
   "outputs": [],
   "source": [
    "def name(a):\n",
    "    n=a\n",
    "    print(n)"
   ]
  },
  {
   "cell_type": "code",
   "execution_count": 5,
   "id": "9b21ec6f",
   "metadata": {},
   "outputs": [
    {
     "name": "stdout",
     "output_type": "stream",
     "text": [
      "10\n"
     ]
    }
   ],
   "source": [
    "name(10) #Call"
   ]
  },
  {
   "cell_type": "markdown",
   "id": "540ba614",
   "metadata": {},
   "source": [
    "# Object Orriented Programming"
   ]
  },
  {
   "cell_type": "code",
   "execution_count": null,
   "id": "3770c13a",
   "metadata": {},
   "outputs": [],
   "source": [
    "# Plan - Class"
   ]
  },
  {
   "cell_type": "code",
   "execution_count": null,
   "id": "5970a784",
   "metadata": {},
   "outputs": [],
   "source": []
  },
  {
   "cell_type": "code",
   "execution_count": 6,
   "id": "da46743d",
   "metadata": {},
   "outputs": [],
   "source": [
    "class Animal:\n",
    "    def __init__(): #Intialization #Constructor \n",
    "        # Does not require a call\n",
    "        legs = 4\n",
    "        tail = 1\n",
    "        print(\"See the magic I am automatically called\")"
   ]
  },
  {
   "cell_type": "code",
   "execution_count": 7,
   "id": "3d9917f5",
   "metadata": {},
   "outputs": [
    {
     "ename": "TypeError",
     "evalue": "Animal.__init__() takes 0 positional arguments but 1 was given",
     "output_type": "error",
     "traceback": [
      "\u001b[1;31m---------------------------------------------------------------------------\u001b[0m",
      "\u001b[1;31mTypeError\u001b[0m                                 Traceback (most recent call last)",
      "Cell \u001b[1;32mIn[7], line 1\u001b[0m\n\u001b[1;32m----> 1\u001b[0m dog \u001b[38;5;241m=\u001b[39m \u001b[43mAnimal\u001b[49m\u001b[43m(\u001b[49m\u001b[43m)\u001b[49m\n",
      "\u001b[1;31mTypeError\u001b[0m: Animal.__init__() takes 0 positional arguments but 1 was given"
     ]
    }
   ],
   "source": [
    "dog = Animal()"
   ]
  },
  {
   "cell_type": "code",
   "execution_count": 8,
   "id": "6b64db7d",
   "metadata": {},
   "outputs": [],
   "source": [
    "def name():# 0 arguments\n",
    "    n=a\n",
    "    print(n)"
   ]
  },
  {
   "cell_type": "code",
   "execution_count": 9,
   "id": "47509459",
   "metadata": {},
   "outputs": [
    {
     "ename": "TypeError",
     "evalue": "name() takes 0 positional arguments but 1 was given",
     "output_type": "error",
     "traceback": [
      "\u001b[1;31m---------------------------------------------------------------------------\u001b[0m",
      "\u001b[1;31mTypeError\u001b[0m                                 Traceback (most recent call last)",
      "Cell \u001b[1;32mIn[9], line 1\u001b[0m\n\u001b[1;32m----> 1\u001b[0m \u001b[43mname\u001b[49m\u001b[43m(\u001b[49m\u001b[38;5;241;43m10\u001b[39;49m\u001b[43m)\u001b[49m \u001b[38;5;66;03m#Call\u001b[39;00m\n",
      "\u001b[1;31mTypeError\u001b[0m: name() takes 0 positional arguments but 1 was given"
     ]
    }
   ],
   "source": [
    "name(10) #Call"
   ]
  },
  {
   "cell_type": "code",
   "execution_count": null,
   "id": "b4cc121b",
   "metadata": {},
   "outputs": [],
   "source": []
  },
  {
   "cell_type": "code",
   "execution_count": 10,
   "id": "9bf77e6e",
   "metadata": {},
   "outputs": [],
   "source": [
    "class Animal:\n",
    "    def __init__(self): #Intialization #Constructor \n",
    "        # Does not require a call\n",
    "        legs = 4\n",
    "        tail = 1\n",
    "        print(\"See the magic I am automatically called\")"
   ]
  },
  {
   "cell_type": "code",
   "execution_count": 11,
   "id": "f1975752",
   "metadata": {},
   "outputs": [
    {
     "name": "stdout",
     "output_type": "stream",
     "text": [
      "See the magic I am automatically called\n"
     ]
    }
   ],
   "source": [
    "dog = Animal() #animal is class and dog is the object for it"
   ]
  },
  {
   "cell_type": "code",
   "execution_count": 12,
   "id": "bc7be271",
   "metadata": {},
   "outputs": [
    {
     "name": "stdout",
     "output_type": "stream",
     "text": [
      "See the magic I am automatically called\n",
      "See the magic I am automatically called\n"
     ]
    }
   ],
   "source": [
    "dog = Animal() #animal is class and dog is the object for it\n",
    "cat = Animal()"
   ]
  },
  {
   "cell_type": "code",
   "execution_count": null,
   "id": "87ad85e9",
   "metadata": {},
   "outputs": [],
   "source": []
  },
  {
   "cell_type": "code",
   "execution_count": 13,
   "id": "f0939d3d",
   "metadata": {},
   "outputs": [],
   "source": [
    "class Animal:\n",
    "    def __init__(self,sound): #Intialization #Constructor \n",
    "        # Does not require a call\n",
    "        self.legs = 4\n",
    "        self.tail = 1\n",
    "        self.sound = sound\n",
    "        print(\"See the magic I am automatically called\")"
   ]
  },
  {
   "cell_type": "code",
   "execution_count": 15,
   "id": "798f177f",
   "metadata": {},
   "outputs": [
    {
     "name": "stdout",
     "output_type": "stream",
     "text": [
      "See the magic I am automatically called\n",
      "See the magic I am automatically called\n"
     ]
    }
   ],
   "source": [
    "dog = Animal(\"bow bow\") #animal is class and dog is the object for it\n",
    "cat = Animal(\"meow meow\")"
   ]
  },
  {
   "cell_type": "code",
   "execution_count": 17,
   "id": "ed460a56",
   "metadata": {},
   "outputs": [
    {
     "data": {
      "text/plain": [
       "'bow bow'"
      ]
     },
     "execution_count": 17,
     "metadata": {},
     "output_type": "execute_result"
    }
   ],
   "source": [
    "dog.sound"
   ]
  },
  {
   "cell_type": "code",
   "execution_count": 18,
   "id": "008fc9bb",
   "metadata": {},
   "outputs": [
    {
     "data": {
      "text/plain": [
       "'meow meow'"
      ]
     },
     "execution_count": 18,
     "metadata": {},
     "output_type": "execute_result"
    }
   ],
   "source": [
    "cat.sound"
   ]
  },
  {
   "cell_type": "code",
   "execution_count": 22,
   "id": "a240c9de",
   "metadata": {},
   "outputs": [],
   "source": [
    "class circle:\n",
    "    def __init__(self,r):\n",
    "        print(id(self))\n",
    "        self.radius = r\n",
    "        print(\"Area of circle is\",3.14 *self.radius*self.radius)"
   ]
  },
  {
   "cell_type": "code",
   "execution_count": 23,
   "id": "5bb841ed",
   "metadata": {},
   "outputs": [
    {
     "name": "stdout",
     "output_type": "stream",
     "text": [
      "1748216144192\n",
      "Area of circle is 314.0\n",
      "1748216144192\n"
     ]
    }
   ],
   "source": [
    "gaju = circle(10)\n",
    "print(id(gaju))"
   ]
  },
  {
   "cell_type": "code",
   "execution_count": 24,
   "id": "76cbc300",
   "metadata": {},
   "outputs": [
    {
     "name": "stdout",
     "output_type": "stream",
     "text": [
      "1748216140400\n",
      "Area of circle is 3.14\n",
      "1748216140400\n"
     ]
    }
   ],
   "source": [
    "ballu = circle(1)\n",
    "print(id(ballu))"
   ]
  },
  {
   "cell_type": "code",
   "execution_count": null,
   "id": "5d653bce",
   "metadata": {},
   "outputs": [],
   "source": []
  }
 ],
 "metadata": {
  "kernelspec": {
   "display_name": "Python 3 (ipykernel)",
   "language": "python",
   "name": "python3"
  },
  "language_info": {
   "codemirror_mode": {
    "name": "ipython",
    "version": 3
   },
   "file_extension": ".py",
   "mimetype": "text/x-python",
   "name": "python",
   "nbconvert_exporter": "python",
   "pygments_lexer": "ipython3",
   "version": "3.10.9"
  }
 },
 "nbformat": 4,
 "nbformat_minor": 5
}
