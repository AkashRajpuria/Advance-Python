{
 "cells": [
  {
   "cell_type": "code",
   "execution_count": 2,
   "id": "81a4be1d",
   "metadata": {},
   "outputs": [],
   "source": [
    "#GRANDFATHER\n",
    "class Balwinder:\n",
    "    def pro_Balwinder(self):\n",
    "        self.farm = \"40M\"\n",
    "\n",
    "\n",
    "\n",
    "#FATHER\n",
    "class Ballu(Balwinder):\n",
    "    def pro_ballu(self):\n",
    "        self.house = \"2CR\"\n",
    "        self.car = \"Lambo\"\n",
    "    \n",
    "\n",
    "#child      \n",
    "class Gaju(Ballu):\n",
    "    def starkid(self):\n",
    "        self.star = \"4M\""
   ]
  },
  {
   "cell_type": "code",
   "execution_count": 3,
   "id": "88447efe",
   "metadata": {},
   "outputs": [],
   "source": [
    "c1 = Gaju()"
   ]
  },
  {
   "cell_type": "code",
   "execution_count": 4,
   "id": "688e5f5b",
   "metadata": {},
   "outputs": [],
   "source": [
    "c1.pro_Balwinder()"
   ]
  },
  {
   "cell_type": "code",
   "execution_count": 5,
   "id": "e7d7e6ef",
   "metadata": {},
   "outputs": [],
   "source": [
    "c1.pro_ballu()"
   ]
  },
  {
   "cell_type": "code",
   "execution_count": 6,
   "id": "fe55a36c",
   "metadata": {},
   "outputs": [],
   "source": [
    "c1.starkid()"
   ]
  },
  {
   "cell_type": "code",
   "execution_count": 8,
   "id": "f86c1ca0",
   "metadata": {},
   "outputs": [
    {
     "data": {
      "text/plain": [
       "'40M'"
      ]
     },
     "execution_count": 8,
     "metadata": {},
     "output_type": "execute_result"
    }
   ],
   "source": [
    "c1.farm"
   ]
  },
  {
   "cell_type": "code",
   "execution_count": 9,
   "id": "cef14405",
   "metadata": {},
   "outputs": [
    {
     "data": {
      "text/plain": [
       "'2CR'"
      ]
     },
     "execution_count": 9,
     "metadata": {},
     "output_type": "execute_result"
    }
   ],
   "source": [
    "c1.house"
   ]
  },
  {
   "cell_type": "code",
   "execution_count": 10,
   "id": "5e91f24e",
   "metadata": {},
   "outputs": [
    {
     "data": {
      "text/plain": [
       "'4M'"
      ]
     },
     "execution_count": 10,
     "metadata": {},
     "output_type": "execute_result"
    }
   ],
   "source": [
    "c1.star"
   ]
  },
  {
   "cell_type": "code",
   "execution_count": null,
   "id": "408574d8",
   "metadata": {},
   "outputs": [],
   "source": []
  }
 ],
 "metadata": {
  "kernelspec": {
   "display_name": "Python 3 (ipykernel)",
   "language": "python",
   "name": "python3"
  },
  "language_info": {
   "codemirror_mode": {
    "name": "ipython",
    "version": 3
   },
   "file_extension": ".py",
   "mimetype": "text/x-python",
   "name": "python",
   "nbconvert_exporter": "python",
   "pygments_lexer": "ipython3",
   "version": "3.10.9"
  }
 },
 "nbformat": 4,
 "nbformat_minor": 5
}
