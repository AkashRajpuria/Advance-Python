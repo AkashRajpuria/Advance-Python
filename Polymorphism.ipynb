{
 "cells": [
  {
   "cell_type": "markdown",
   "id": "a6216d73",
   "metadata": {},
   "source": [
    "# Polymorphism\n",
    " Many Forms\n",
    " MOTHER\n",
    "  - Teacher\n",
    "  - Chef\n",
    "  - Police"
   ]
  },
  {
   "cell_type": "markdown",
   "id": "f3265dbd",
   "metadata": {},
   "source": [
    "# Method Overloading"
   ]
  },
  {
   "cell_type": "code",
   "execution_count": 1,
   "id": "d5a1495d",
   "metadata": {},
   "outputs": [],
   "source": [
    "def worker(x=None,z=None):\n",
    "    #x = no of hours\n",
    "    #z = bonus\n",
    "    if x==None and z==None:\n",
    "        print(\"Sad\")\n",
    "    elif x<=10 and z==\"Yes\":\n",
    "        print(\"Dancing Worker\")\n",
    "    elif x<=10 and z==\"No\":\n",
    "        print(\"No working Strik...!\")\n",
    "    else:\n",
    "        print(\"Too much work hire someone\")\n",
    "        \n",
    "        "
   ]
  },
  {
   "cell_type": "code",
   "execution_count": 2,
   "id": "0b0556c1",
   "metadata": {},
   "outputs": [
    {
     "name": "stdout",
     "output_type": "stream",
     "text": [
      "Sad\n"
     ]
    }
   ],
   "source": [
    "worker()# no bonus now extra work"
   ]
  },
  {
   "cell_type": "code",
   "execution_count": 3,
   "id": "3a24f84a",
   "metadata": {},
   "outputs": [
    {
     "name": "stdout",
     "output_type": "stream",
     "text": [
      "Dancing Worker\n"
     ]
    }
   ],
   "source": [
    "worker(5,\"Yes\")# no bonus now extra work"
   ]
  },
  {
   "cell_type": "code",
   "execution_count": null,
   "id": "49b02e06",
   "metadata": {},
   "outputs": [],
   "source": []
  },
  {
   "cell_type": "markdown",
   "id": "4e3884bf",
   "metadata": {},
   "source": [
    "## Method Overriding"
   ]
  },
  {
   "cell_type": "code",
   "execution_count": 5,
   "id": "dae1849b",
   "metadata": {},
   "outputs": [],
   "source": [
    "class gaju:\n",
    "    def property(self):\n",
    "        print(\"I have 4CR property\")\n",
    "class child(gaju):\n",
    "    def property(self):\n",
    "        print(\"I have 40CR\")"
   ]
  },
  {
   "cell_type": "code",
   "execution_count": 7,
   "id": "693afe67",
   "metadata": {},
   "outputs": [
    {
     "name": "stdout",
     "output_type": "stream",
     "text": [
      "I have 40CR\n"
     ]
    }
   ],
   "source": [
    "c1 = child()\n",
    "c1.property()"
   ]
  },
  {
   "cell_type": "code",
   "execution_count": 8,
   "id": "b3d45744",
   "metadata": {},
   "outputs": [
    {
     "name": "stdout",
     "output_type": "stream",
     "text": [
      "I have 4CR property\n"
     ]
    }
   ],
   "source": [
    "g = gaju()\n",
    "g.property()"
   ]
  },
  {
   "cell_type": "code",
   "execution_count": null,
   "id": "8c0e54b4",
   "metadata": {},
   "outputs": [],
   "source": []
  },
  {
   "cell_type": "code",
   "execution_count": null,
   "id": "4e388e08",
   "metadata": {},
   "outputs": [],
   "source": []
  },
  {
   "cell_type": "markdown",
   "id": "0a8c89e5",
   "metadata": {},
   "source": [
    "# Operator Overloading"
   ]
  },
  {
   "cell_type": "code",
   "execution_count": 9,
   "id": "df62fc33",
   "metadata": {},
   "outputs": [
    {
     "data": {
      "text/plain": [
       "8"
      ]
     },
     "execution_count": 9,
     "metadata": {},
     "output_type": "execute_result"
    }
   ],
   "source": [
    "3+5"
   ]
  },
  {
   "cell_type": "code",
   "execution_count": 10,
   "id": "84f9db51",
   "metadata": {},
   "outputs": [
    {
     "data": {
      "text/plain": [
       "'AKASH RAJPURIA'"
      ]
     },
     "execution_count": 10,
     "metadata": {},
     "output_type": "execute_result"
    }
   ],
   "source": [
    "\"AKASH\"+ \" RAJPURIA\""
   ]
  },
  {
   "cell_type": "code",
   "execution_count": 11,
   "id": "f77f0673",
   "metadata": {},
   "outputs": [],
   "source": [
    "class hello:\n",
    "    def __init__(self,x):\n",
    "        self.x = x"
   ]
  },
  {
   "cell_type": "code",
   "execution_count": 12,
   "id": "4b251da5",
   "metadata": {},
   "outputs": [],
   "source": [
    "obj1 = hello(10)\n",
    "obj2 = hello(20)"
   ]
  },
  {
   "cell_type": "code",
   "execution_count": 13,
   "id": "2f3e462c",
   "metadata": {},
   "outputs": [
    {
     "data": {
      "text/plain": [
       "10"
      ]
     },
     "execution_count": 13,
     "metadata": {},
     "output_type": "execute_result"
    }
   ],
   "source": [
    "obj1.x"
   ]
  },
  {
   "cell_type": "code",
   "execution_count": 14,
   "id": "80861fa1",
   "metadata": {},
   "outputs": [
    {
     "data": {
      "text/plain": [
       "20"
      ]
     },
     "execution_count": 14,
     "metadata": {},
     "output_type": "execute_result"
    }
   ],
   "source": [
    "obj2.x"
   ]
  },
  {
   "cell_type": "code",
   "execution_count": 16,
   "id": "f912c2ae",
   "metadata": {},
   "outputs": [
    {
     "ename": "TypeError",
     "evalue": "unsupported operand type(s) for +: 'hello' and 'hello'",
     "output_type": "error",
     "traceback": [
      "\u001b[1;31m---------------------------------------------------------------------------\u001b[0m",
      "\u001b[1;31mTypeError\u001b[0m                                 Traceback (most recent call last)",
      "Cell \u001b[1;32mIn[16], line 1\u001b[0m\n\u001b[1;32m----> 1\u001b[0m \u001b[43mobj1\u001b[49m\u001b[38;5;241;43m+\u001b[39;49m\u001b[43mobj2\u001b[49m\n",
      "\u001b[1;31mTypeError\u001b[0m: unsupported operand type(s) for +: 'hello' and 'hello'"
     ]
    }
   ],
   "source": [
    "obj1+obj2"
   ]
  },
  {
   "cell_type": "code",
   "execution_count": 20,
   "id": "81cd5123",
   "metadata": {},
   "outputs": [],
   "source": [
    "class hello:\n",
    "    def __init__(self,x):\n",
    "        self.x = x\n",
    "    \n",
    "    def __add__(self,obj2):\n",
    "        return self.x +obj2.x"
   ]
  },
  {
   "cell_type": "code",
   "execution_count": 21,
   "id": "56510a21",
   "metadata": {},
   "outputs": [],
   "source": [
    "obj1 = hello(10)\n",
    "obj2 = hello(20)"
   ]
  },
  {
   "cell_type": "code",
   "execution_count": 22,
   "id": "e9670c21",
   "metadata": {},
   "outputs": [
    {
     "data": {
      "text/plain": [
       "30"
      ]
     },
     "execution_count": 22,
     "metadata": {},
     "output_type": "execute_result"
    }
   ],
   "source": [
    "obj1+obj2"
   ]
  },
  {
   "cell_type": "code",
   "execution_count": null,
   "id": "0fb90d76",
   "metadata": {},
   "outputs": [],
   "source": []
  }
 ],
 "metadata": {
  "kernelspec": {
   "display_name": "Python 3 (ipykernel)",
   "language": "python",
   "name": "python3"
  },
  "language_info": {
   "codemirror_mode": {
    "name": "ipython",
    "version": 3
   },
   "file_extension": ".py",
   "mimetype": "text/x-python",
   "name": "python",
   "nbconvert_exporter": "python",
   "pygments_lexer": "ipython3",
   "version": "3.10.9"
  }
 },
 "nbformat": 4,
 "nbformat_minor": 5
}
