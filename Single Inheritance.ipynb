{
 "cells": [
  {
   "cell_type": "code",
   "execution_count": 1,
   "id": "646523cf",
   "metadata": {},
   "outputs": [],
   "source": [
    "# Code Reusablity"
   ]
  },
  {
   "cell_type": "markdown",
   "id": "35712b46",
   "metadata": {},
   "source": [
    "# Types"
   ]
  },
  {
   "cell_type": "markdown",
   "id": "5988f007",
   "metadata": {},
   "source": [
    "# Single Inherittance"
   ]
  },
  {
   "cell_type": "code",
   "execution_count": 2,
   "id": "d00f70e9",
   "metadata": {},
   "outputs": [],
   "source": [
    "# FATHER \n",
    "class Ballu:\n",
    "    def property(self):\n",
    "        self.house = '1CR'\n",
    "        self.Money = '50L'\n",
    "#child\n",
    "class Gaju(Ballu):\n",
    "    def own(self):\n",
    "        self.coder = \"10L\"\n",
    "    "
   ]
  },
  {
   "cell_type": "code",
   "execution_count": 3,
   "id": "5f3414d6",
   "metadata": {},
   "outputs": [],
   "source": [
    "totalproperty = Gaju() #child"
   ]
  },
  {
   "cell_type": "code",
   "execution_count": 5,
   "id": "3b1a4635",
   "metadata": {},
   "outputs": [
    {
     "data": {
      "text/plain": [
       "'1CR'"
      ]
     },
     "execution_count": 5,
     "metadata": {},
     "output_type": "execute_result"
    }
   ],
   "source": [
    "totalproperty.property()\n",
    "totalproperty.house"
   ]
  },
  {
   "cell_type": "code",
   "execution_count": 7,
   "id": "3dac7972",
   "metadata": {},
   "outputs": [
    {
     "data": {
      "text/plain": [
       "'50L'"
      ]
     },
     "execution_count": 7,
     "metadata": {},
     "output_type": "execute_result"
    }
   ],
   "source": [
    "totalproperty.Money"
   ]
  },
  {
   "cell_type": "code",
   "execution_count": 8,
   "id": "156fb072",
   "metadata": {},
   "outputs": [],
   "source": [
    "totalproperty.own()"
   ]
  },
  {
   "cell_type": "code",
   "execution_count": 9,
   "id": "7ba4e14a",
   "metadata": {},
   "outputs": [
    {
     "data": {
      "text/plain": [
       "'10L'"
      ]
     },
     "execution_count": 9,
     "metadata": {},
     "output_type": "execute_result"
    }
   ],
   "source": [
    "totalproperty.coder"
   ]
  },
  {
   "cell_type": "code",
   "execution_count": 17,
   "id": "61ed603a",
   "metadata": {},
   "outputs": [],
   "source": [
    "# FATHER \n",
    "class Ballu:\n",
    "    def __init__(self):\n",
    "        self.house = '1CR'\n",
    "        self.Money = '50L'\n",
    "#child\n",
    "class Gaju(Ballu):\n",
    "    def __init__(self):\n",
    "        Ballu.__init__(self)\n",
    "        self.coder = \"10L\"\n",
    "    "
   ]
  },
  {
   "cell_type": "code",
   "execution_count": 18,
   "id": "066b5471",
   "metadata": {},
   "outputs": [],
   "source": [
    "property1 = Gaju() #child"
   ]
  },
  {
   "cell_type": "code",
   "execution_count": 19,
   "id": "63bb42d5",
   "metadata": {},
   "outputs": [
    {
     "data": {
      "text/plain": [
       "'10L'"
      ]
     },
     "execution_count": 19,
     "metadata": {},
     "output_type": "execute_result"
    }
   ],
   "source": [
    "property1.coder"
   ]
  },
  {
   "cell_type": "code",
   "execution_count": 20,
   "id": "51674394",
   "metadata": {},
   "outputs": [
    {
     "data": {
      "text/plain": [
       "'1CR'"
      ]
     },
     "execution_count": 20,
     "metadata": {},
     "output_type": "execute_result"
    }
   ],
   "source": [
    "property1.house"
   ]
  },
  {
   "cell_type": "code",
   "execution_count": 29,
   "id": "487765e5",
   "metadata": {},
   "outputs": [],
   "source": [
    "# FATHER \n",
    "class Ballu:\n",
    "    def __init__(self):\n",
    "        self.house = '1CR'\n",
    "        self.Money = '50L'\n",
    "#child\n",
    "class Gaju(Ballu):\n",
    "    def __init__(self):\n",
    "        super().__init__()\n",
    "        self.coder = \"10L\"\n",
    "    "
   ]
  },
  {
   "cell_type": "code",
   "execution_count": 30,
   "id": "5debc5df",
   "metadata": {},
   "outputs": [
    {
     "data": {
      "text/plain": [
       "'10L'"
      ]
     },
     "execution_count": 30,
     "metadata": {},
     "output_type": "execute_result"
    }
   ],
   "source": [
    "property2 = Gaju() #child\n",
    "property2.coder"
   ]
  },
  {
   "cell_type": "code",
   "execution_count": 31,
   "id": "f3ed8e70",
   "metadata": {},
   "outputs": [
    {
     "data": {
      "text/plain": [
       "'1CR'"
      ]
     },
     "execution_count": 31,
     "metadata": {},
     "output_type": "execute_result"
    }
   ],
   "source": [
    "property2.house"
   ]
  },
  {
   "cell_type": "code",
   "execution_count": null,
   "id": "b809cebc",
   "metadata": {},
   "outputs": [],
   "source": []
  }
 ],
 "metadata": {
  "kernelspec": {
   "display_name": "Python 3 (ipykernel)",
   "language": "python",
   "name": "python3"
  },
  "language_info": {
   "codemirror_mode": {
    "name": "ipython",
    "version": 3
   },
   "file_extension": ".py",
   "mimetype": "text/x-python",
   "name": "python",
   "nbconvert_exporter": "python",
   "pygments_lexer": "ipython3",
   "version": "3.10.9"
  }
 },
 "nbformat": 4,
 "nbformat_minor": 5
}
