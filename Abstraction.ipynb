{
 "cells": [
  {
   "cell_type": "markdown",
   "id": "768d8d56",
   "metadata": {},
   "source": [
    "# Abstraction"
   ]
  },
  {
   "cell_type": "code",
   "execution_count": 10,
   "id": "1b263f75",
   "metadata": {},
   "outputs": [],
   "source": [
    "# Abstract base Class\n",
    "\n",
    "#Inherit from ABC\n",
    "# atleast one abstract class\n",
    "from abc import ABC ,abstractmethod\n",
    "class whatsapp(ABC):\n",
    "    def image(self):\n",
    "        print(\"Image successfully send\")\n",
    "    \n",
    "    @abstractmethod\n",
    "    def security_whatsapp(self):\n",
    "        pass\n",
    "    \n",
    "    "
   ]
  },
  {
   "cell_type": "code",
   "execution_count": 3,
   "id": "6870f821",
   "metadata": {},
   "outputs": [],
   "source": [
    "class mobile(whatsapp):\n",
    "    def image(self):\n",
    "        print('Done mobile')\n",
    "    "
   ]
  },
  {
   "cell_type": "code",
   "execution_count": 4,
   "id": "6807a7f1",
   "metadata": {},
   "outputs": [
    {
     "ename": "TypeError",
     "evalue": "Can't instantiate abstract class mobile with abstract method security_whatsapp",
     "output_type": "error",
     "traceback": [
      "\u001b[1;31m---------------------------------------------------------------------------\u001b[0m",
      "\u001b[1;31mTypeError\u001b[0m                                 Traceback (most recent call last)",
      "Cell \u001b[1;32mIn[4], line 1\u001b[0m\n\u001b[1;32m----> 1\u001b[0m m \u001b[38;5;241m=\u001b[39m \u001b[43mmobile\u001b[49m\u001b[43m(\u001b[49m\u001b[43m)\u001b[49m\n",
      "\u001b[1;31mTypeError\u001b[0m: Can't instantiate abstract class mobile with abstract method security_whatsapp"
     ]
    }
   ],
   "source": [
    "m = mobile()"
   ]
  },
  {
   "cell_type": "code",
   "execution_count": 7,
   "id": "c418794d",
   "metadata": {},
   "outputs": [],
   "source": [
    "class mobile(whatsapp):\n",
    "\n",
    "    def security_whatsapp(self):\n",
    "        print(\"implementing security\")\n",
    "        print(\"code 1\")"
   ]
  },
  {
   "cell_type": "code",
   "execution_count": 8,
   "id": "39a1c4e2",
   "metadata": {},
   "outputs": [],
   "source": [
    "m = mobile()"
   ]
  },
  {
   "cell_type": "code",
   "execution_count": 9,
   "id": "283489a9",
   "metadata": {},
   "outputs": [
    {
     "ename": "TypeError",
     "evalue": "Can't instantiate abstract class whatsapp with abstract method security_whatsapp",
     "output_type": "error",
     "traceback": [
      "\u001b[1;31m---------------------------------------------------------------------------\u001b[0m",
      "\u001b[1;31mTypeError\u001b[0m                                 Traceback (most recent call last)",
      "Cell \u001b[1;32mIn[9], line 1\u001b[0m\n\u001b[1;32m----> 1\u001b[0m w \u001b[38;5;241m=\u001b[39m \u001b[43mwhatsapp\u001b[49m\u001b[43m(\u001b[49m\u001b[43m)\u001b[49m\n",
      "\u001b[1;31mTypeError\u001b[0m: Can't instantiate abstract class whatsapp with abstract method security_whatsapp"
     ]
    }
   ],
   "source": [
    "w = whatsapp()"
   ]
  },
  {
   "cell_type": "code",
   "execution_count": 11,
   "id": "728d7793",
   "metadata": {},
   "outputs": [],
   "source": [
    "# Abstract base Class\n",
    "\n",
    "#Inherit from ABC\n",
    "# atleast one abstract class\n",
    "from abc import ABC ,abstractmethod\n",
    "class whatsapp(ABC):\n",
    "    def image(self):\n",
    "        print(\"Image successfully send\")\n",
    "    \n",
    "    @abstractmethod\n",
    "    def security_whatsapp(self):\n",
    "        pass\n",
    "    @abstractmethod\n",
    "    def compression(self):\n",
    "        pass"
   ]
  },
  {
   "cell_type": "code",
   "execution_count": 12,
   "id": "8ed7ffa0",
   "metadata": {},
   "outputs": [],
   "source": [
    "class mobile(whatsapp):\n",
    "\n",
    "    def security_whatsapp(self):\n",
    "        print(\"implementing security\")\n",
    "        print(\"code 1\")"
   ]
  },
  {
   "cell_type": "code",
   "execution_count": 13,
   "id": "2efa6469",
   "metadata": {},
   "outputs": [
    {
     "ename": "TypeError",
     "evalue": "Can't instantiate abstract class mobile with abstract method compression",
     "output_type": "error",
     "traceback": [
      "\u001b[1;31m---------------------------------------------------------------------------\u001b[0m",
      "\u001b[1;31mTypeError\u001b[0m                                 Traceback (most recent call last)",
      "Cell \u001b[1;32mIn[13], line 1\u001b[0m\n\u001b[1;32m----> 1\u001b[0m m \u001b[38;5;241m=\u001b[39m \u001b[43mmobile\u001b[49m\u001b[43m(\u001b[49m\u001b[43m)\u001b[49m\n",
      "\u001b[1;31mTypeError\u001b[0m: Can't instantiate abstract class mobile with abstract method compression"
     ]
    }
   ],
   "source": [
    "m = mobile()"
   ]
  },
  {
   "cell_type": "code",
   "execution_count": null,
   "id": "a98368ab",
   "metadata": {},
   "outputs": [],
   "source": []
  }
 ],
 "metadata": {
  "kernelspec": {
   "display_name": "Python 3 (ipykernel)",
   "language": "python",
   "name": "python3"
  },
  "language_info": {
   "codemirror_mode": {
    "name": "ipython",
    "version": 3
   },
   "file_extension": ".py",
   "mimetype": "text/x-python",
   "name": "python",
   "nbconvert_exporter": "python",
   "pygments_lexer": "ipython3",
   "version": "3.10.9"
  }
 },
 "nbformat": 4,
 "nbformat_minor": 5
}
