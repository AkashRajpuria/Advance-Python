{
 "cells": [
  {
   "cell_type": "code",
   "execution_count": 1,
   "id": "7cfabe2f",
   "metadata": {},
   "outputs": [],
   "source": [
    "class Bali:\n",
    "    def __init__(self):\n",
    "        self.__golf = \"10CR - golf\" #private\n",
    "        self._swiming = \"10L - swim\" #protected\n",
    "        self.videos = \"FREE - video\" #public\n",
    "    \n",
    "    def display(self):\n",
    "        print(\"Private var\",self.__golf)\n",
    "        print(\"Protected var\",self._swiming)\n",
    "        print(\"Public var\",self.videos)\n",
    "\n",
    "class gaju(Bali):\n",
    "    \n",
    "    def show(self):\n",
    "        print(\"Private var\",self.__golf)\n",
    "        print(\"Protected var\",self._swiming)\n",
    "        print(\"Public var\",self.videos)"
   ]
  },
  {
   "cell_type": "code",
   "execution_count": 2,
   "id": "17585c0e",
   "metadata": {},
   "outputs": [],
   "source": [
    "balu = Bali()"
   ]
  },
  {
   "cell_type": "code",
   "execution_count": 3,
   "id": "1b91980e",
   "metadata": {},
   "outputs": [
    {
     "name": "stdout",
     "output_type": "stream",
     "text": [
      "Private var 10CR - golf\n",
      "Protected var 10L - swim\n",
      "Public var FREE - video\n"
     ]
    }
   ],
   "source": [
    "balu.display()"
   ]
  },
  {
   "cell_type": "code",
   "execution_count": 4,
   "id": "c2d609c3",
   "metadata": {},
   "outputs": [
    {
     "ename": "AttributeError",
     "evalue": "'gaju' object has no attribute '_gaju__golf'",
     "output_type": "error",
     "traceback": [
      "\u001b[1;31m---------------------------------------------------------------------------\u001b[0m",
      "\u001b[1;31mAttributeError\u001b[0m                            Traceback (most recent call last)",
      "Cell \u001b[1;32mIn[4], line 2\u001b[0m\n\u001b[0;32m      1\u001b[0m Gajudhar \u001b[38;5;241m=\u001b[39m gaju() \u001b[38;5;66;03m#child\u001b[39;00m\n\u001b[1;32m----> 2\u001b[0m \u001b[43mGajudhar\u001b[49m\u001b[38;5;241;43m.\u001b[39;49m\u001b[43mshow\u001b[49m\u001b[43m(\u001b[49m\u001b[43m)\u001b[49m\n",
      "Cell \u001b[1;32mIn[1], line 15\u001b[0m, in \u001b[0;36mgaju.show\u001b[1;34m(self)\u001b[0m\n\u001b[0;32m     14\u001b[0m \u001b[38;5;28;01mdef\u001b[39;00m \u001b[38;5;21mshow\u001b[39m(\u001b[38;5;28mself\u001b[39m):\n\u001b[1;32m---> 15\u001b[0m     \u001b[38;5;28mprint\u001b[39m(\u001b[38;5;124m\"\u001b[39m\u001b[38;5;124mPrivate var\u001b[39m\u001b[38;5;124m\"\u001b[39m,\u001b[38;5;28;43mself\u001b[39;49m\u001b[38;5;241;43m.\u001b[39;49m\u001b[43m__golf\u001b[49m)\n\u001b[0;32m     16\u001b[0m     \u001b[38;5;28mprint\u001b[39m(\u001b[38;5;124m\"\u001b[39m\u001b[38;5;124mProtected var\u001b[39m\u001b[38;5;124m\"\u001b[39m,\u001b[38;5;28mself\u001b[39m\u001b[38;5;241m.\u001b[39m_swiming)\n\u001b[0;32m     17\u001b[0m     \u001b[38;5;28mprint\u001b[39m(\u001b[38;5;124m\"\u001b[39m\u001b[38;5;124mPublic var\u001b[39m\u001b[38;5;124m\"\u001b[39m,\u001b[38;5;28mself\u001b[39m\u001b[38;5;241m.\u001b[39mvideos)\n",
      "\u001b[1;31mAttributeError\u001b[0m: 'gaju' object has no attribute '_gaju__golf'"
     ]
    }
   ],
   "source": [
    "Gajudhar = gaju() #child\n",
    "Gajudhar.show()"
   ]
  },
  {
   "cell_type": "code",
   "execution_count": 5,
   "id": "59d37e57",
   "metadata": {},
   "outputs": [],
   "source": [
    "class Bali:\n",
    "    def __init__(self):\n",
    "        self.__golf = \"10CR - golf\" #private\n",
    "        self._swiming = \"10L - swim\" #protected\n",
    "        self.videos = \"FREE - video\" #public\n",
    "    \n",
    "    def display(self):\n",
    "        print(\"Private var\",self.__golf)\n",
    "        print(\"Protected var\",self._swiming)\n",
    "        print(\"Public var\",self.videos)\n",
    "\n",
    "class gaju(Bali):\n",
    "    \n",
    "    def show(self):\n",
    "        #print(\"Private var\",self.__golf) I cannot access it\n",
    "        print(\"Protected var\",self._swiming)\n",
    "        print(\"Public var\",self.videos)"
   ]
  },
  {
   "cell_type": "code",
   "execution_count": 6,
   "id": "ef7d53b2",
   "metadata": {},
   "outputs": [
    {
     "name": "stdout",
     "output_type": "stream",
     "text": [
      "Protected var 10L - swim\n",
      "Public var FREE - video\n"
     ]
    }
   ],
   "source": [
    "Gajudhar = gaju() #child\n",
    "Gajudhar.show()"
   ]
  },
  {
   "cell_type": "code",
   "execution_count": 12,
   "id": "796645d6",
   "metadata": {},
   "outputs": [
    {
     "ename": "AttributeError",
     "evalue": "'chinki' object has no attribute '_swiming'",
     "output_type": "error",
     "traceback": [
      "\u001b[1;31m---------------------------------------------------------------------------\u001b[0m",
      "\u001b[1;31mAttributeError\u001b[0m                            Traceback (most recent call last)",
      "Cell \u001b[1;32mIn[12], line 8\u001b[0m\n\u001b[0;32m      6\u001b[0m         \u001b[38;5;28mprint\u001b[39m(\u001b[38;5;124m\"\u001b[39m\u001b[38;5;124mPublic var\u001b[39m\u001b[38;5;124m\"\u001b[39m,\u001b[38;5;28mself\u001b[39m\u001b[38;5;241m.\u001b[39mvideos)\n\u001b[0;32m      7\u001b[0m c1 \u001b[38;5;241m=\u001b[39m chinki()\n\u001b[1;32m----> 8\u001b[0m \u001b[43mc1\u001b[49m\u001b[38;5;241;43m.\u001b[39;49m\u001b[43mshow\u001b[49m\u001b[43m(\u001b[49m\u001b[43m)\u001b[49m\n",
      "Cell \u001b[1;32mIn[12], line 5\u001b[0m, in \u001b[0;36mchinki.show\u001b[1;34m(self)\u001b[0m\n\u001b[0;32m      3\u001b[0m \u001b[38;5;28;01mdef\u001b[39;00m \u001b[38;5;21mshow\u001b[39m(\u001b[38;5;28mself\u001b[39m):\n\u001b[0;32m      4\u001b[0m     \u001b[38;5;66;03m#print(\"Private var\",self.__golf) I cannot access it\u001b[39;00m\n\u001b[1;32m----> 5\u001b[0m     \u001b[38;5;28mprint\u001b[39m(\u001b[38;5;124m\"\u001b[39m\u001b[38;5;124mProtected var\u001b[39m\u001b[38;5;124m\"\u001b[39m,\u001b[38;5;28;43mself\u001b[39;49m\u001b[38;5;241;43m.\u001b[39;49m\u001b[43m_swiming\u001b[49m)\n\u001b[0;32m      6\u001b[0m     \u001b[38;5;28mprint\u001b[39m(\u001b[38;5;124m\"\u001b[39m\u001b[38;5;124mPublic var\u001b[39m\u001b[38;5;124m\"\u001b[39m,\u001b[38;5;28mself\u001b[39m\u001b[38;5;241m.\u001b[39mvideos)\n",
      "\u001b[1;31mAttributeError\u001b[0m: 'chinki' object has no attribute '_swiming'"
     ]
    }
   ],
   "source": [
    "class chinki():\n",
    "    \n",
    "    def show(self):\n",
    "        #print(\"Private var\",self.__golf) I cannot access it\n",
    "        print(\"Protected var\",self._swiming)\n",
    "        print(\"Public var\",self.videos)\n",
    "c1 = chinki()\n",
    "c1.show()"
   ]
  },
  {
   "cell_type": "code",
   "execution_count": 15,
   "id": "e42ce715",
   "metadata": {},
   "outputs": [
    {
     "name": "stdout",
     "output_type": "stream",
     "text": [
      "Public var FREE - video\n"
     ]
    }
   ],
   "source": [
    "class chinki():\n",
    "    \n",
    "    def show(self):\n",
    "        #print(\"Private var\",self.__golf) I cannot access it\n",
    "        #print(\"Protected var\",self._swiming)\n",
    "        Bali.__init__(self)\n",
    "        print(\"Public var\",self.videos)\n",
    "c1 = chinki()\n",
    "c1.show()"
   ]
  },
  {
   "cell_type": "code",
   "execution_count": 18,
   "id": "967eaaba",
   "metadata": {},
   "outputs": [
    {
     "ename": "AttributeError",
     "evalue": "'chinki' object has no attribute '_chinki__golf'",
     "output_type": "error",
     "traceback": [
      "\u001b[1;31m---------------------------------------------------------------------------\u001b[0m",
      "\u001b[1;31mAttributeError\u001b[0m                            Traceback (most recent call last)",
      "Cell \u001b[1;32mIn[18], line 11\u001b[0m\n\u001b[0;32m      9\u001b[0m         \u001b[38;5;28mprint\u001b[39m(\u001b[38;5;124m\"\u001b[39m\u001b[38;5;124mPublic var\u001b[39m\u001b[38;5;124m\"\u001b[39m,\u001b[38;5;28mself\u001b[39m\u001b[38;5;241m.\u001b[39mvideos)\n\u001b[0;32m     10\u001b[0m c1 \u001b[38;5;241m=\u001b[39m chinki()\n\u001b[1;32m---> 11\u001b[0m \u001b[43mc1\u001b[49m\u001b[38;5;241;43m.\u001b[39;49m\u001b[43mshow\u001b[49m\u001b[43m(\u001b[49m\u001b[43m)\u001b[49m\n",
      "Cell \u001b[1;32mIn[18], line 5\u001b[0m, in \u001b[0;36mchinki.show\u001b[1;34m(self)\u001b[0m\n\u001b[0;32m      3\u001b[0m \u001b[38;5;28;01mdef\u001b[39;00m \u001b[38;5;21mshow\u001b[39m(\u001b[38;5;28mself\u001b[39m):\n\u001b[0;32m      4\u001b[0m     Bali\u001b[38;5;241m.\u001b[39m\u001b[38;5;21m__init__\u001b[39m(\u001b[38;5;28mself\u001b[39m)\n\u001b[1;32m----> 5\u001b[0m     \u001b[38;5;28mprint\u001b[39m(\u001b[38;5;124m\"\u001b[39m\u001b[38;5;124mPrivate var\u001b[39m\u001b[38;5;124m\"\u001b[39m,\u001b[38;5;28;43mself\u001b[39;49m\u001b[38;5;241;43m.\u001b[39;49m\u001b[43m__golf\u001b[49m)\u001b[38;5;66;03m# I cannot access it\u001b[39;00m\n\u001b[0;32m      7\u001b[0m     \u001b[38;5;28mprint\u001b[39m(\u001b[38;5;124m\"\u001b[39m\u001b[38;5;124mProtected var\u001b[39m\u001b[38;5;124m\"\u001b[39m,\u001b[38;5;28mself\u001b[39m\u001b[38;5;241m.\u001b[39m_swiming)\n\u001b[0;32m      9\u001b[0m     \u001b[38;5;28mprint\u001b[39m(\u001b[38;5;124m\"\u001b[39m\u001b[38;5;124mPublic var\u001b[39m\u001b[38;5;124m\"\u001b[39m,\u001b[38;5;28mself\u001b[39m\u001b[38;5;241m.\u001b[39mvideos)\n",
      "\u001b[1;31mAttributeError\u001b[0m: 'chinki' object has no attribute '_chinki__golf'"
     ]
    }
   ],
   "source": [
    "class chinki():\n",
    "    \n",
    "    def show(self):\n",
    "        Bali.__init__(self)\n",
    "        print(\"Private var\",self.__golf)# I cannot access it\n",
    "        \n",
    "        print(\"Protected var\",self._swiming)\n",
    "        \n",
    "        print(\"Public var\",self.videos)\n",
    "c1 = chinki()\n",
    "c1.show()"
   ]
  },
  {
   "cell_type": "code",
   "execution_count": 20,
   "id": "177d4a9a",
   "metadata": {},
   "outputs": [
    {
     "data": {
      "text/plain": [
       "'10L - swim'"
      ]
     },
     "execution_count": 20,
     "metadata": {},
     "output_type": "execute_result"
    }
   ],
   "source": [
    "balu._swiming"
   ]
  },
  {
   "cell_type": "code",
   "execution_count": 21,
   "id": "5c4cd862",
   "metadata": {},
   "outputs": [
    {
     "data": {
      "text/plain": [
       "'FREE - video'"
      ]
     },
     "execution_count": 21,
     "metadata": {},
     "output_type": "execute_result"
    }
   ],
   "source": [
    "balu.videos"
   ]
  },
  {
   "cell_type": "code",
   "execution_count": null,
   "id": "375e3c69",
   "metadata": {},
   "outputs": [],
   "source": []
  },
  {
   "cell_type": "code",
   "execution_count": null,
   "id": "e3f5f26d",
   "metadata": {},
   "outputs": [],
   "source": []
  },
  {
   "cell_type": "code",
   "execution_count": null,
   "id": "6b88ac5b",
   "metadata": {},
   "outputs": [],
   "source": []
  },
  {
   "cell_type": "code",
   "execution_count": 24,
   "id": "132772ff",
   "metadata": {},
   "outputs": [],
   "source": [
    "class Bali:\n",
    "    def __init__(self):\n",
    "        self.__golf = \"10CR - golf\" #private\n",
    "        self._swiming = \"10L - swim\" #protected\n",
    "        self.videos = \"FREE - video\" #public\n",
    "    \n",
    "    def display(self):\n",
    "        print(\"Private var\",self.__golf)\n",
    "        print(\"Protected var\",self._swiming)\n",
    "        print(\"Public var\",self.videos)\n",
    "\n",
    "class gaju(Bali):\n",
    "    \n",
    "    def show(self):\n",
    "        print(\"Private var\",self.__golf)\n",
    "        print(\"Protected var\",self._swiming)\n",
    "        print(\"Public var\",self.videos)"
   ]
  },
  {
   "cell_type": "code",
   "execution_count": 25,
   "id": "ea7adaba",
   "metadata": {},
   "outputs": [],
   "source": [
    "b = Bali()\n"
   ]
  },
  {
   "cell_type": "code",
   "execution_count": 26,
   "id": "c4c08453",
   "metadata": {},
   "outputs": [
    {
     "data": {
      "text/plain": [
       "'10L - swim'"
      ]
     },
     "execution_count": 26,
     "metadata": {},
     "output_type": "execute_result"
    }
   ],
   "source": [
    "b._swiming"
   ]
  },
  {
   "cell_type": "code",
   "execution_count": null,
   "id": "b7794b38",
   "metadata": {},
   "outputs": [],
   "source": []
  }
 ],
 "metadata": {
  "kernelspec": {
   "display_name": "Python 3 (ipykernel)",
   "language": "python",
   "name": "python3"
  },
  "language_info": {
   "codemirror_mode": {
    "name": "ipython",
    "version": 3
   },
   "file_extension": ".py",
   "mimetype": "text/x-python",
   "name": "python",
   "nbconvert_exporter": "python",
   "pygments_lexer": "ipython3",
   "version": "3.10.9"
  }
 },
 "nbformat": 4,
 "nbformat_minor": 5
}
