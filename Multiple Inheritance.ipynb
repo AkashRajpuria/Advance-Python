{
 "cells": [
  {
   "cell_type": "code",
   "execution_count": 1,
   "id": "a7ff283f",
   "metadata": {},
   "outputs": [],
   "source": [
    "class Ballu:\n",
    "    def pro_ballu(self):\n",
    "        self.house = \"2CR\"\n",
    "        self.car = \"Lambo\"\n",
    "    \n",
    "class Chinki:    \n",
    "    def pro_chinki(self):\n",
    "        self.YOUTUBE = \"Vlogs 10M\"\n",
    "        \n",
    "class Gaju(Ballu,Chinki):\n",
    "    def starkid(self):\n",
    "        self.star = \"4M\""
   ]
  },
  {
   "cell_type": "code",
   "execution_count": 2,
   "id": "3de18b84",
   "metadata": {},
   "outputs": [],
   "source": [
    "c1 = Gaju()"
   ]
  },
  {
   "cell_type": "code",
   "execution_count": 3,
   "id": "d7b15400",
   "metadata": {},
   "outputs": [],
   "source": [
    "c1.pro_ballu()# FATHER"
   ]
  },
  {
   "cell_type": "code",
   "execution_count": 5,
   "id": "5e9766b0",
   "metadata": {},
   "outputs": [
    {
     "data": {
      "text/plain": [
       "('2CR', 'Lambo')"
      ]
     },
     "execution_count": 5,
     "metadata": {},
     "output_type": "execute_result"
    }
   ],
   "source": [
    "c1.house,c1.car"
   ]
  },
  {
   "cell_type": "code",
   "execution_count": 6,
   "id": "83509e74",
   "metadata": {},
   "outputs": [
    {
     "data": {
      "text/plain": [
       "'Vlogs 10M'"
      ]
     },
     "execution_count": 6,
     "metadata": {},
     "output_type": "execute_result"
    }
   ],
   "source": [
    "c1.pro_chinki()\n",
    "c1.YOUTUBE"
   ]
  },
  {
   "cell_type": "code",
   "execution_count": 7,
   "id": "655f93c4",
   "metadata": {},
   "outputs": [],
   "source": [
    "c1.starkid()"
   ]
  },
  {
   "cell_type": "code",
   "execution_count": 8,
   "id": "db7cb0da",
   "metadata": {},
   "outputs": [
    {
     "data": {
      "text/plain": [
       "'4M'"
      ]
     },
     "execution_count": 8,
     "metadata": {},
     "output_type": "execute_result"
    }
   ],
   "source": [
    "c1.star"
   ]
  },
  {
   "cell_type": "code",
   "execution_count": null,
   "id": "565a265a",
   "metadata": {},
   "outputs": [],
   "source": []
  }
 ],
 "metadata": {
  "kernelspec": {
   "display_name": "Python 3 (ipykernel)",
   "language": "python",
   "name": "python3"
  },
  "language_info": {
   "codemirror_mode": {
    "name": "ipython",
    "version": 3
   },
   "file_extension": ".py",
   "mimetype": "text/x-python",
   "name": "python",
   "nbconvert_exporter": "python",
   "pygments_lexer": "ipython3",
   "version": "3.10.9"
  }
 },
 "nbformat": 4,
 "nbformat_minor": 5
}
