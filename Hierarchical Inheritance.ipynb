{
 "cells": [
  {
   "cell_type": "code",
   "execution_count": 1,
   "id": "ef79bce0",
   "metadata": {},
   "outputs": [],
   "source": [
    "class Ballu:\n",
    "    def pro_ballu(self):\n",
    "        self.house = \"2CR\"\n",
    "        self.car = \"Lambo\"\n",
    "    \n",
    "\n",
    "class Gaju(Ballu):\n",
    "    def starkid(self):\n",
    "        self.star = \"4M\"\n",
    "        \n",
    "class Aju(Ballu):\n",
    "    def Don(self):\n",
    "        self.DON = \"4000M\"\n",
    "        "
   ]
  },
  {
   "cell_type": "code",
   "execution_count": 2,
   "id": "b11db222",
   "metadata": {},
   "outputs": [
    {
     "data": {
      "text/plain": [
       "'2CR'"
      ]
     },
     "execution_count": 2,
     "metadata": {},
     "output_type": "execute_result"
    }
   ],
   "source": [
    "g = Gaju()\n",
    "g.pro_ballu()\n",
    "g.house"
   ]
  },
  {
   "cell_type": "code",
   "execution_count": 3,
   "id": "838f7848",
   "metadata": {},
   "outputs": [
    {
     "data": {
      "text/plain": [
       "'2CR'"
      ]
     },
     "execution_count": 3,
     "metadata": {},
     "output_type": "execute_result"
    }
   ],
   "source": [
    "a = Aju()\n",
    "a.pro_ballu()\n",
    "a.house"
   ]
  },
  {
   "cell_type": "code",
   "execution_count": 4,
   "id": "94c26347",
   "metadata": {},
   "outputs": [
    {
     "ename": "AttributeError",
     "evalue": "'Aju' object has no attribute 'starkid'",
     "output_type": "error",
     "traceback": [
      "\u001b[1;31m---------------------------------------------------------------------------\u001b[0m",
      "\u001b[1;31mAttributeError\u001b[0m                            Traceback (most recent call last)",
      "Cell \u001b[1;32mIn[4], line 1\u001b[0m\n\u001b[1;32m----> 1\u001b[0m \u001b[43ma\u001b[49m\u001b[38;5;241;43m.\u001b[39;49m\u001b[43mstarkid\u001b[49m()\n",
      "\u001b[1;31mAttributeError\u001b[0m: 'Aju' object has no attribute 'starkid'"
     ]
    }
   ],
   "source": [
    "a.starkid()"
   ]
  },
  {
   "cell_type": "code",
   "execution_count": 5,
   "id": "521b9065",
   "metadata": {},
   "outputs": [
    {
     "ename": "AttributeError",
     "evalue": "'Gaju' object has no attribute 'DON'",
     "output_type": "error",
     "traceback": [
      "\u001b[1;31m---------------------------------------------------------------------------\u001b[0m",
      "\u001b[1;31mAttributeError\u001b[0m                            Traceback (most recent call last)",
      "Cell \u001b[1;32mIn[5], line 1\u001b[0m\n\u001b[1;32m----> 1\u001b[0m \u001b[43mg\u001b[49m\u001b[38;5;241;43m.\u001b[39;49m\u001b[43mDON\u001b[49m\n",
      "\u001b[1;31mAttributeError\u001b[0m: 'Gaju' object has no attribute 'DON'"
     ]
    }
   ],
   "source": [
    "g.DON"
   ]
  },
  {
   "cell_type": "code",
   "execution_count": 8,
   "id": "439c30a3",
   "metadata": {},
   "outputs": [],
   "source": [
    "a.Don()"
   ]
  },
  {
   "cell_type": "code",
   "execution_count": 9,
   "id": "7eee22e0",
   "metadata": {},
   "outputs": [
    {
     "data": {
      "text/plain": [
       "'4000M'"
      ]
     },
     "execution_count": 9,
     "metadata": {},
     "output_type": "execute_result"
    }
   ],
   "source": [
    "a.DON"
   ]
  },
  {
   "cell_type": "code",
   "execution_count": 10,
   "id": "42073498",
   "metadata": {},
   "outputs": [
    {
     "ename": "AttributeError",
     "evalue": "'Gaju' object has no attribute 'Don'",
     "output_type": "error",
     "traceback": [
      "\u001b[1;31m---------------------------------------------------------------------------\u001b[0m",
      "\u001b[1;31mAttributeError\u001b[0m                            Traceback (most recent call last)",
      "Cell \u001b[1;32mIn[10], line 1\u001b[0m\n\u001b[1;32m----> 1\u001b[0m \u001b[43mg\u001b[49m\u001b[38;5;241;43m.\u001b[39;49m\u001b[43mDon\u001b[49m()\n",
      "\u001b[1;31mAttributeError\u001b[0m: 'Gaju' object has no attribute 'Don'"
     ]
    }
   ],
   "source": [
    "g.Don()"
   ]
  },
  {
   "cell_type": "code",
   "execution_count": null,
   "id": "382e11dc",
   "metadata": {},
   "outputs": [],
   "source": []
  }
 ],
 "metadata": {
  "kernelspec": {
   "display_name": "Python 3 (ipykernel)",
   "language": "python",
   "name": "python3"
  },
  "language_info": {
   "codemirror_mode": {
    "name": "ipython",
    "version": 3
   },
   "file_extension": ".py",
   "mimetype": "text/x-python",
   "name": "python",
   "nbconvert_exporter": "python",
   "pygments_lexer": "ipython3",
   "version": "3.10.9"
  }
 },
 "nbformat": 4,
 "nbformat_minor": 5
}
