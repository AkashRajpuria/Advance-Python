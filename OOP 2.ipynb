{
 "cells": [
  {
   "cell_type": "markdown",
   "id": "e5cd24d1",
   "metadata": {},
   "source": [
    "# Obejct Oriented Programming\n",
    "#### School Management System\n",
    "#### Class Variable\n",
    "#### Class Method"
   ]
  },
  {
   "cell_type": "code",
   "execution_count": null,
   "id": "8132d8ee",
   "metadata": {},
   "outputs": [],
   "source": [
    "# self"
   ]
  },
  {
   "cell_type": "code",
   "execution_count": 17,
   "id": "6bf16243",
   "metadata": {},
   "outputs": [],
   "source": [
    "class Student:\n",
    "    def __init__(self,name,present):\n",
    "        self.Total_Days = 100\n",
    "        self.attendance = present\n",
    "        self.name = name\n",
    "    \n",
    "    def attendance_calc(self):\n",
    "        perc = (self.attendance /self.Total_Days)*100\n",
    "        if perc >=75:\n",
    "            print(f\"{self.name} is allowed to appear for exam-  {perc}%\\n All the Best for your Exams\")\n",
    "        else:\n",
    "            print(f\"{self.name} is disqualified\")\n",
    "            \n",
    "    def username_creation(self):\n",
    "        print(self.name+\"@dancingmonkey.com\")"
   ]
  },
  {
   "cell_type": "code",
   "execution_count": 18,
   "id": "cd61b89a",
   "metadata": {},
   "outputs": [],
   "source": [
    "gaju = Student(\"Gajodhar\",87)\n",
    "ballu = Student(\"Balwinder\",45)"
   ]
  },
  {
   "cell_type": "code",
   "execution_count": 19,
   "id": "3677d502",
   "metadata": {},
   "outputs": [
    {
     "name": "stdout",
     "output_type": "stream",
     "text": [
      "Gajodhar is allowed to appear for exam-  87.0%\n",
      " All the Best for your Exams\n"
     ]
    }
   ],
   "source": [
    "gaju.attendance_calc()"
   ]
  },
  {
   "cell_type": "code",
   "execution_count": 20,
   "id": "8ab97f1e",
   "metadata": {},
   "outputs": [
    {
     "name": "stdout",
     "output_type": "stream",
     "text": [
      "Balwinder is disqualified\n"
     ]
    }
   ],
   "source": [
    "ballu.attendance_calc()"
   ]
  },
  {
   "cell_type": "code",
   "execution_count": 21,
   "id": "2d7b9977",
   "metadata": {},
   "outputs": [
    {
     "name": "stdout",
     "output_type": "stream",
     "text": [
      "Gajodhar@dancingmonkey.com\n"
     ]
    }
   ],
   "source": [
    "gaju.username_creation()"
   ]
  },
  {
   "cell_type": "code",
   "execution_count": 22,
   "id": "d7e6ebd1",
   "metadata": {},
   "outputs": [
    {
     "name": "stdout",
     "output_type": "stream",
     "text": [
      "Balwinder@dancingmonkey.com\n"
     ]
    }
   ],
   "source": [
    "ballu.username_creation()"
   ]
  },
  {
   "cell_type": "code",
   "execution_count": null,
   "id": "bc8298e1",
   "metadata": {},
   "outputs": [],
   "source": []
  },
  {
   "cell_type": "code",
   "execution_count": null,
   "id": "807f2e66",
   "metadata": {},
   "outputs": [],
   "source": []
  },
  {
   "cell_type": "code",
   "execution_count": 38,
   "id": "99e2e124",
   "metadata": {},
   "outputs": [],
   "source": [
    "class Student:\n",
    "    INSTRUCTOR = \"Whatever GURUJI\" # whichever value is common for all the objects\n",
    "    # class variable\n",
    "    def __init__(self,name,present):\n",
    "        self.Total_Days = 100 # object variable/instance variable\n",
    "        self.attendance = present\n",
    "        self.name = name\n",
    "    \n",
    "    def attendance_calc(self):\n",
    "        perc = (self.attendance /self.Total_Days)*100\n",
    "        if perc >=75:\n",
    "            print(f\"{self.name} is allowed to appear for exam-  {perc}%\\n All the Best for your Exams\")\n",
    "        else:\n",
    "            print(f\"{self.name} is disqualified\")\n",
    "            \n",
    "    def username_creation(self):#instance method/object method\n",
    "        print(self.name+\"@dancingmonkey.com\")\n",
    "    \n",
    "    @classmethod\n",
    "    def change_INSTRUCTOR(cls):# whenever you only require a class varaible \n",
    "        cls.INSTRUCTOR = \"Offical GURUJI\"\n",
    "        \n",
    "    @staticmethod\n",
    "    def helper():\n",
    "        print(\"Welcome\")"
   ]
  },
  {
   "cell_type": "code",
   "execution_count": 39,
   "id": "77b16233",
   "metadata": {},
   "outputs": [],
   "source": [
    "chaman = Student(\"aman\",99)\n"
   ]
  },
  {
   "cell_type": "code",
   "execution_count": 40,
   "id": "2a0a8399",
   "metadata": {},
   "outputs": [
    {
     "name": "stdout",
     "output_type": "stream",
     "text": [
      "aman@dancingmonkey.com\n"
     ]
    }
   ],
   "source": [
    "chaman.username_creation()"
   ]
  },
  {
   "cell_type": "code",
   "execution_count": 41,
   "id": "f5e54393",
   "metadata": {},
   "outputs": [
    {
     "data": {
      "text/plain": [
       "'Whatever GURUJI'"
      ]
     },
     "execution_count": 41,
     "metadata": {},
     "output_type": "execute_result"
    }
   ],
   "source": [
    "chaman.INSTRUCTOR #objectname.classvaraible"
   ]
  },
  {
   "cell_type": "code",
   "execution_count": 42,
   "id": "7680e180",
   "metadata": {},
   "outputs": [
    {
     "data": {
      "text/plain": [
       "'Whatever GURUJI'"
      ]
     },
     "execution_count": 42,
     "metadata": {},
     "output_type": "execute_result"
    }
   ],
   "source": [
    "Student.INSTRUCTOR #classname.classvariable"
   ]
  },
  {
   "cell_type": "code",
   "execution_count": 43,
   "id": "3b41e1de",
   "metadata": {},
   "outputs": [],
   "source": [
    "Student.change_INSTRUCTOR()# Classname.classmethod"
   ]
  },
  {
   "cell_type": "code",
   "execution_count": 44,
   "id": "dff711bc",
   "metadata": {},
   "outputs": [
    {
     "data": {
      "text/plain": [
       "'Offical GURUJI'"
      ]
     },
     "execution_count": 44,
     "metadata": {},
     "output_type": "execute_result"
    }
   ],
   "source": [
    "Student.INSTRUCTOR #classname.classvariable"
   ]
  },
  {
   "cell_type": "code",
   "execution_count": 45,
   "id": "2dbebfa3",
   "metadata": {},
   "outputs": [
    {
     "name": "stdout",
     "output_type": "stream",
     "text": [
      "Welcome\n"
     ]
    }
   ],
   "source": [
    "Student.helper()#static method"
   ]
  },
  {
   "cell_type": "code",
   "execution_count": 46,
   "id": "79e83a52",
   "metadata": {},
   "outputs": [
    {
     "name": "stdout",
     "output_type": "stream",
     "text": [
      "Welcome\n"
     ]
    }
   ],
   "source": [
    "chaman.helper()"
   ]
  },
  {
   "cell_type": "code",
   "execution_count": null,
   "id": "f37f4b45",
   "metadata": {},
   "outputs": [],
   "source": []
  }
 ],
 "metadata": {
  "kernelspec": {
   "display_name": "Python 3 (ipykernel)",
   "language": "python",
   "name": "python3"
  },
  "language_info": {
   "codemirror_mode": {
    "name": "ipython",
    "version": 3
   },
   "file_extension": ".py",
   "mimetype": "text/x-python",
   "name": "python",
   "nbconvert_exporter": "python",
   "pygments_lexer": "ipython3",
   "version": "3.10.9"
  }
 },
 "nbformat": 4,
 "nbformat_minor": 5
}
